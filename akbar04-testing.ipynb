{
 "cells": [
  {
   "cell_type": "code",
   "execution_count": 36,
   "metadata": {},
   "outputs": [],
   "source": [
    "import base64\n",
    "import json\n",
    "import random\n",
    "\n",
    "import pandas as pd\n",
    "import requests\n",
    "import tensorflow as tf"
   ]
  },
  {
   "cell_type": "code",
   "execution_count": 37,
   "metadata": {},
   "outputs": [
    {
     "data": {
      "text/plain": [
       "{'person_age': 24.0,\n",
       " 'person_gender': 'male',\n",
       " 'person_education': 'Bachelor',\n",
       " 'person_income': 91159.0,\n",
       " 'person_emp_exp': 3,\n",
       " 'person_home_ownership': 'MORTGAGE',\n",
       " 'loan_amnt': 15600.0,\n",
       " 'loan_intent': 'VENTURE',\n",
       " 'loan_int_rate': 11.01,\n",
       " 'loan_percent_income': 0.17,\n",
       " 'cb_person_cred_hist_length': 4.0,\n",
       " 'credit_score': 654,\n",
       " 'previous_loan_defaults_on_file': 'Yes'}"
      ]
     },
     "execution_count": 37,
     "metadata": {},
     "output_type": "execute_result"
    }
   ],
   "source": [
    "df = pd.read_csv(\"data/loan_data.csv\")\n",
    "y = df.pop(\"loan_status\")\n",
    "\n",
    "columns = df.columns.values\n",
    "rand = random.randint(0, len(df))\n",
    "\n",
    "features = df.values[rand]\n",
    "label = y[rand]\n",
    "\n",
    "inputs = {key: value for key, value in zip(columns, features)}\n",
    "inputs"
   ]
  },
  {
   "cell_type": "code",
   "execution_count": 38,
   "metadata": {},
   "outputs": [],
   "source": [
    "def string_feature(value):\n",
    "    return tf.train.Feature(\n",
    "        bytes_list=tf.train.BytesList(value=[bytes(value, \"utf-8\")]),\n",
    "    )\n",
    "\n",
    "\n",
    "def float_feature(value):\n",
    "    return tf.train.Feature(\n",
    "        float_list=tf.train.FloatList(value=[value]),\n",
    "    )\n",
    "\n",
    "\n",
    "def int_feature(value):\n",
    "    return tf.train.Feature(\n",
    "        int64_list=tf.train.Int64List(value=[value]),\n",
    "    )"
   ]
  },
  {
   "cell_type": "code",
   "execution_count": 39,
   "metadata": {},
   "outputs": [],
   "source": [
    "def prepare_json(inputs: dict):\n",
    "    feature_spec = dict()\n",
    "    \n",
    "    for keys, values in inputs.items():\n",
    "        if isinstance(values, float):\n",
    "            feature_spec[keys] = float_feature(values)\n",
    "        elif isinstance(values, int):\n",
    "            feature_spec[keys] = int_feature(values)\n",
    "        elif isinstance(values, str):\n",
    "            feature_spec[keys] = string_feature(values)\n",
    "            \n",
    "    example = tf.train.Example(\n",
    "        features=tf.train.Features(feature=feature_spec)\n",
    "    ).SerializeToString()\n",
    "        \n",
    "    result = [\n",
    "        {\n",
    "            \"examples\": {\n",
    "                \"b64\": base64.b64encode(example).decode()\n",
    "            }\n",
    "        }\n",
    "    ]\n",
    "    \n",
    "    return json.dumps({\n",
    "        \"signature_name\": \"serving_default\",\n",
    "        \"instances\": result,\n",
    "    })"
   ]
  },
  {
   "cell_type": "code",
   "execution_count": 40,
   "metadata": {},
   "outputs": [],
   "source": [
    "def make_predictions(inputs):\n",
    "    json_data = prepare_json(inputs)\n",
    "\n",
    "    endpoint = (\n",
    "        \"https://loan-mlops-dicoding-production.up.railway.app/v1/models/loan-approval-model:predict\"\n",
    "    )\n",
    "    response = requests.post(endpoint, data=json_data)\n",
    "    prediction = response.json()[\"predictions\"][0][0]\n",
    "\n",
    "    if prediction < 0.7:\n",
    "        return \"persetujuan pinjaman tidak diterima\"\n",
    "    else:\n",
    "        return \"persetujuan pinjaman diterima\""
   ]
  },
  {
   "cell_type": "code",
   "execution_count": 41,
   "metadata": {},
   "outputs": [
    {
     "data": {
      "text/plain": [
       "'persetujuan pinjaman tidak diterima'"
      ]
     },
     "execution_count": 41,
     "metadata": {},
     "output_type": "execute_result"
    }
   ],
   "source": [
    "make_predictions(inputs)"
   ]
  },
  {
   "cell_type": "code",
   "execution_count": 42,
   "metadata": {},
   "outputs": [
    {
     "data": {
      "text/plain": [
       "0"
      ]
     },
     "execution_count": 42,
     "metadata": {},
     "output_type": "execute_result"
    }
   ],
   "source": [
    "\n",
    "label"
   ]
  }
 ],
 "metadata": {
  "kernelspec": {
   "display_name": "Python (loan-approvement)",
   "language": "python",
   "name": "loan-approvement"
  },
  "language_info": {
   "codemirror_mode": {
    "name": "ipython",
    "version": 3
   },
   "file_extension": ".py",
   "mimetype": "text/x-python",
   "name": "python",
   "nbconvert_exporter": "python",
   "pygments_lexer": "ipython3",
   "version": "3.9.21"
  }
 },
 "nbformat": 4,
 "nbformat_minor": 2
}
